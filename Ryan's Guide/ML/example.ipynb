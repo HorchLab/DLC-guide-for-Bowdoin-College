{
 "cells": [
  {
   "cell_type": "code",
   "execution_count": 128,
   "id": "2499189a",
   "metadata": {},
   "outputs": [],
   "source": [
    "import pandas as pd\n",
    "from joblib import dump, load  # for saving/loading\n",
    "from normalize import normalize\n",
    "import numpy as np"
   ]
  },
  {
   "cell_type": "code",
   "execution_count": 129,
   "id": "904d3a95",
   "metadata": {},
   "outputs": [
    {
     "name": "stderr",
     "output_type": "stream",
     "text": [
      "/var/folders/st/m6jq2k2x1ng9w38x64s0ybqc0000gn/T/ipykernel_28415/3481932164.py:19: SettingWithCopyWarning: \n",
      "A value is trying to be set on a copy of a slice from a DataFrame\n",
      "\n",
      "See the caveats in the documentation: https://pandas.pydata.org/pandas-docs/stable/user_guide/indexing.html#returning-a-view-versus-a-copy\n",
      "  DLC_raw_output.ffill(inplace=True)  # Forward fill to handle NaN values\n"
     ]
    },
    {
     "data": {
      "text/plain": [
       "'\\nTake 3 files with you: \\n. This one: example.ipynb\\n. where the normalze function is: normalize.py\\n. where the MLP model lives: mlp_pipeline.joblib\\n'"
      ]
     },
     "execution_count": 129,
     "metadata": {},
     "output_type": "execute_result"
    }
   ],
   "source": [
    "file = \"RawCSV/Injected/GFP/250310_250212GFPM1DLC_Resnet50_2024-BehavioralJul6shuffle3_snapshot_300_filtered.csv\"\n",
    "sound_data_path = \"RawCSV/Injected/GFP/250310_250212GFPM1_lowcut.csv\"\n",
    "output_csv_path = \"Merged/Injected/250310_250212GFPM1_MERGED.csv\" \n",
    "filtered_df_path = file\n",
    "## REMINDER: YOU NEED TO HAVE IT IN THE MERGED DATA FRAME FORMAT\n",
    "\n",
    "# Load the data\n",
    "filtered_df = pd.read_csv(file, header=[1, 2])\n",
    "filtered_df.columns = ['_'.join(col).strip() for col in filtered_df.columns.values]\n",
    "if 'Frames' not in filtered_df.columns:\n",
    "    filtered_df = filtered_df.rename(columns={filtered_df.columns[0]: 'Frames'})\n",
    "\n",
    "# print(filtered_df.columns)\n",
    "normalized_data = normalize(filtered_df, 'Anchor_L', 'Anchor_R', midpoint=True, reference_p1_2='Anchor_R')\n",
    "\n",
    "# 2. DLC raw output: Columns that end with '_x', '_y', or '_likelihood'\n",
    "DLC_raw_output = normalized_data.filter(regex='(_x|_y|_likelihood)$')\n",
    "\n",
    "DLC_raw_output.ffill(inplace=True)  # Forward fill to handle NaN values\n",
    "##\n",
    "\n",
    "\"\"\"\n",
    "Take 3 files with you: \n",
    ". This one: example.ipynb\n",
    ". where the normalze function is: normalize.py\n",
    ". where the MLP model lives: mlp_pipeline.joblib\n",
    "\"\"\""
   ]
  },
  {
   "cell_type": "code",
   "execution_count": 130,
   "id": "1996a3e4",
   "metadata": {},
   "outputs": [
    {
     "name": "stderr",
     "output_type": "stream",
     "text": [
      "/opt/homebrew/Caskroom/miniconda/base/lib/python3.12/site-packages/sklearn/base.py:380: InconsistentVersionWarning: Trying to unpickle estimator StandardScaler from version 1.5.1 when using version 1.6.1. This might lead to breaking code or invalid results. Use at your own risk. For more info please refer to:\n",
      "https://scikit-learn.org/stable/model_persistence.html#security-maintainability-limitations\n",
      "  warnings.warn(\n",
      "/opt/homebrew/Caskroom/miniconda/base/lib/python3.12/site-packages/sklearn/base.py:380: InconsistentVersionWarning: Trying to unpickle estimator LabelBinarizer from version 1.5.1 when using version 1.6.1. This might lead to breaking code or invalid results. Use at your own risk. For more info please refer to:\n",
      "https://scikit-learn.org/stable/model_persistence.html#security-maintainability-limitations\n",
      "  warnings.warn(\n",
      "/opt/homebrew/Caskroom/miniconda/base/lib/python3.12/site-packages/sklearn/base.py:380: InconsistentVersionWarning: Trying to unpickle estimator MLPClassifier from version 1.5.1 when using version 1.6.1. This might lead to breaking code or invalid results. Use at your own risk. For more info please refer to:\n",
      "https://scikit-learn.org/stable/model_persistence.html#security-maintainability-limitations\n",
      "  warnings.warn(\n",
      "/opt/homebrew/Caskroom/miniconda/base/lib/python3.12/site-packages/sklearn/base.py:380: InconsistentVersionWarning: Trying to unpickle estimator Pipeline from version 1.5.1 when using version 1.6.1. This might lead to breaking code or invalid results. Use at your own risk. For more info please refer to:\n",
      "https://scikit-learn.org/stable/model_persistence.html#security-maintainability-limitations\n",
      "  warnings.warn(\n"
     ]
    }
   ],
   "source": [
    "# Load the joblib file\n",
    "model = load(\"mlp_pipeline.joblib\")"
   ]
  },
  {
   "cell_type": "code",
   "execution_count": 131,
   "id": "949e411d",
   "metadata": {},
   "outputs": [
    {
     "name": "stderr",
     "output_type": "stream",
     "text": [
      "/opt/homebrew/Caskroom/miniconda/base/lib/python3.12/site-packages/sklearn/utils/validation.py:2732: UserWarning: X has feature names, but StandardScaler was fitted without feature names\n",
      "  warnings.warn(\n"
     ]
    },
    {
     "data": {
      "text/plain": [
       "[<matplotlib.lines.Line2D at 0x16dd29010>]"
      ]
     },
     "execution_count": 131,
     "metadata": {},
     "output_type": "execute_result"
    },
    {
     "data": {
      "image/png": "[encoded data removed]",
      "text/plain": [
       "<Figure size 640x480 with 1 Axes>"
      ]
     },
     "metadata": {},
     "output_type": "display_data"
    }
   ],
   "source": [
    "out = model.predict(DLC_raw_output)\n",
    "\n",
    "# Save the predictions to a CSV file\n",
    "\n",
    "import matplotlib.pyplot as plt\n",
    "\n",
    "plt.plot(out)\n",
    "#pd.DataFrame(out, columns=['MLP prediction']).to_csv('mlp_predictions.csv', index=False)"
   ]
  },
  {
   "cell_type": "markdown",
   "id": "9cb06d7e",
   "metadata": {},
   "source": [
    "NOTES (From Ryan):\n",
    "1. This code is a combination of Tom's classifier and the sound processing code.\n",
    "2. I used a process_sound_group function to process the sound data and group it by frames.\n",
    "3. Since there were multiple sound bursts with different sides (left/1 or right/2) in the same second playing ultrasound (e.g., 18000 Hz), \n",
    "I used a median to determine the dB level and pitches for each group and just duplicated it.\n",
    "[It was weird converting seconds to frames because seconds were in 60 fps, but I just used the floor function to get the frame number, which is\n",
    "an integer. But because of using floor, that meant there were duplicate frames in the sound data, so I had to group by frames and pick the median.]\n",
    "4. Then I merged the processed sound data with the filtered CSV data, and added the OUTPUT_LABEL to save the final output to a CSV file\n",
    "5. It's a good idea to use plt.plot(out) above to visualize the output of the MLP model (to make sure it looks reasonable)."
   ]
  },
  {
   "cell_type": "code",
   "execution_count": null,
   "id": "28195024",
   "metadata": {},
   "outputs": [
    {
     "name": "stderr",
     "output_type": "stream",
     "text": [
      "/var/folders/st/m6jq2k2x1ng9w38x64s0ybqc0000gn/T/ipykernel_28415/1131543683.py:38: DeprecationWarning: DataFrameGroupBy.apply operated on the grouping columns. This behavior is deprecated, and in a future version of pandas the grouping columns will be excluded from the operation. Either pass `include_groups=False` to exclude the groupings or explicitly select the grouping columns after groupby to silence this warning.\n",
      "  sound_processed = sound_df.groupby(\"Frames\", group_keys=False).apply(process_sound_group)\n"
     ]
    },
    {
     "name": "stdout",
     "output_type": "stream",
     "text": [
      "Warning: Extended OUTPUT_LABEL from 10585 to 10594 using last value (2.0)\n",
      "Output saved to Merged/Injected/250310_250212GFPM1_MERGED.csv\n"
     ]
    }
   ],
   "source": [
    "# Assume OUTPUT_LABEL is a predefined vector with the same length as the final merged frames\n",
    "# OUTPUT_LABEL = [...]  # This should be defined before running the script\n",
    "OUTPUT_LABEL = out  # Assuming 'out' is the output from the MLP model\n",
    "\n",
    "# --- PART 1: Process sound data ---\n",
    "sound_df = pd.read_csv(sound_data_path, header=0, names=[\"x_raw\", \"Pitches_L\", \"dB_L\", \"Pitches_R\", \"dB_R\"])\n",
    "sound_df[\"Frames\"] = np.floor(sound_df[\"x_raw\"] * 60).astype(int)\n",
    "\n",
    "def process_sound_group(group):\n",
    "    left_18000 = (group[\"Pitches_L\"] == 18000).any()\n",
    "    right_18000 = (group[\"Pitches_R\"] == 18000).any()\n",
    "    \n",
    "    if left_18000 or right_18000:\n",
    "        if left_18000:\n",
    "            median_row = group[group[\"Pitches_L\"] == 18000].median(numeric_only=True)\n",
    "            pitches_val = 18000\n",
    "            db_val = median_row[\"dB_L\"]\n",
    "        else:\n",
    "            median_row = group[group[\"Pitches_R\"] == 18000].median(numeric_only=True)\n",
    "            pitches_val = 18000\n",
    "            db_val = median_row[\"dB_R\"]\n",
    "    else:\n",
    "        median_left_db = group[\"dB_L\"].median()\n",
    "        median_right_db = group[\"dB_R\"].median()\n",
    "        if median_left_db >= median_right_db:\n",
    "            pitches_val = group[\"Pitches_L\"].median()\n",
    "            db_val = median_left_db\n",
    "        else:\n",
    "            pitches_val = group[\"Pitches_R\"].median()\n",
    "            db_val = median_right_db\n",
    "    \n",
    "    return pd.DataFrame({\n",
    "        \"Frames\": [group.name],\n",
    "        \"Pitches_combined\": [pitches_val],\n",
    "        \"dB_combined\": [db_val]\n",
    "    })\n",
    "\n",
    "sound_processed = sound_df.groupby(\"Frames\", group_keys=False).apply(process_sound_group)\n",
    "\n",
    "# --- PART 2: Process filtered CSV ---\n",
    "filtered_df = pd.read_csv(filtered_df_path, header=[1, 2])\n",
    "filtered_df.columns = ['_'.join(col).strip() for col in filtered_df.columns.values]\n",
    "\n",
    "if 'Frames' not in filtered_df.columns:\n",
    "    filtered_df = filtered_df.rename(columns={filtered_df.columns[0]: 'Frames'})\n",
    "\n",
    "# --- PART 3: Merge sound and filtered data ---\n",
    "merged_df = pd.merge(sound_processed, filtered_df, on='Frames', how='outer')\n",
    "\n",
    "# --- PART 4: Add and process OUTPUT_LABEL ---\n",
    "def add_state_labels(df, output_label):\n",
    "    \"\"\"Adds both the numeric state and descriptive state_label columns\"\"\"\n",
    "    # State mapping dictionary\n",
    "    state_map = {\n",
    "        0: \"not flying\",\n",
    "        1: \"transition\",\n",
    "        2: \"flying\"\n",
    "    }\n",
    "    \n",
    "    # Convert output_label to list if it's a NumPy array\n",
    "    if hasattr(output_label, 'tolist'):\n",
    "        output_label = output_label.tolist()\n",
    "    \n",
    "    # --- Handle length mismatch ---\n",
    "    if len(output_label) < len(df):\n",
    "        last_label = output_label[-1]  # Get the last label\n",
    "        extension = [last_label] * (len(df) - len(output_label))\n",
    "        output_label_extended = output_label + extension\n",
    "        print(f\"Warning: Extended OUTPUT_LABEL from {len(output_label)} to {len(df)} using last value ({last_label})\")\n",
    "        output_label = output_label_extended\n",
    "    elif len(output_label) > len(df):\n",
    "        raise ValueError(f\"OUTPUT_LABEL (len={len(output_label)}) is longer than DataFrame (len={len(df)})\")\n",
    "    \n",
    "    # Add the columns\n",
    "    df[\"state\"] = output_label[:len(df)]  # Ensure no overflow\n",
    "    df[\"state_label\"] = [state_map.get(x, \"unknown\") for x in df[\"state\"]]\n",
    "    \n",
    "    return df\n",
    "\n",
    "# Apply the function to add both columns\n",
    "merged_df = add_state_labels(merged_df, OUTPUT_LABEL)\n",
    "\n",
    "# --- PART 5: Reorder columns ---\n",
    "sound_cols = ['Pitches_combined', 'dB_combined']\n",
    "state_cols = ['state', 'state_label']  # Keep these together\n",
    "filtered_cols = [col for col in filtered_df.columns if col != 'Frames']\n",
    "\n",
    "ordered_cols = ['Frames'] + sound_cols + state_cols + filtered_cols\n",
    "final_df = merged_df[ordered_cols].sort_values('Frames').reset_index(drop=True)\n",
    "\n",
    "# --- PART 6: Save Output ---\n",
    "final_df.to_csv(output_csv_path, index=False)\n",
    "print(f\"Output saved to {output_csv_path}\")"
   ]
  }
 ],
 "metadata": {
  "kernelspec": {
   "display_name": "base",
   "language": "python",
   "name": "python3"
  },
  "language_info": {
   "codemirror_mode": {
    "name": "ipython",
    "version": 3
   },
   "file_extension": ".py",
   "mimetype": "text/x-python",
   "name": "python",
   "nbconvert_exporter": "python",
   "pygments_lexer": "ipython3",
   "version": "3.12.9"
  }
 },
 "nbformat": 4,
 "nbformat_minor": 5
}
